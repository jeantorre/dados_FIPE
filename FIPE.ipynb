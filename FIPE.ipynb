{
 "cells": [
  {
   "cell_type": "code",
   "execution_count": 1,
   "metadata": {},
   "outputs": [],
   "source": [
    "from selenium import webdriver\n",
    "from selenium.webdriver.chrome.service import Service\n",
    "from webdriver_manager.chrome import ChromeDriverManager\n",
    "from bs4 import BeautifulSoup\n",
    "import requests\n",
    "from selenium.webdriver.common.keys import Keys\n",
    "import pandas as pd\n",
    "import re"
   ]
  },
  {
   "cell_type": "markdown",
   "metadata": {},
   "source": [
    "## Treinando Scrapping"
   ]
  },
  {
   "cell_type": "markdown",
   "metadata": {},
   "source": [
    "### Testando site"
   ]
  },
  {
   "cell_type": "code",
   "execution_count": 49,
   "metadata": {},
   "outputs": [
    {
     "name": "stdout",
     "output_type": "stream",
     "text": [
      "Site funcionando normalmente!\n"
     ]
    }
   ],
   "source": [
    "url = f'''https://veiculos.fipe.org.br/'''\n",
    "response = requests.get(url)\n",
    "if response.status_code == 200:\n",
    "    print(\"Site funcionando normalmente!\")\n",
    "    soup = BeautifulSoup(response.text,\"html.parser\")\n",
    "else:\n",
    "    print(\"Site apresentou algum problema!\\nTente mais tarde\")"
   ]
  },
  {
   "cell_type": "markdown",
   "metadata": {},
   "source": [
    "### Abrindo navegador"
   ]
  },
  {
   "cell_type": "code",
   "execution_count": 84,
   "metadata": {},
   "outputs": [],
   "source": [
    "# driver = webdriver.Chrome(service = Service(ChromeDriverManager().install()))\n",
    "# driver.get(url)\n",
    "# driver.implicitly_wait(10)\n",
    "# driver.maximize_window()"
   ]
  },
  {
   "cell_type": "markdown",
   "metadata": {},
   "source": [
    "### Selecionando campos"
   ]
  },
  {
   "cell_type": "code",
   "execution_count": 67,
   "metadata": {},
   "outputs": [],
   "source": [
    "#Tipo de Consulta: Consulta de carros e utilitários pequenos\n",
    "\n",
    "campo_consulta = '/html/body/div[1]/section[2]/div[1]/div[2]/ul/li[1]/a'\n",
    "\n",
    "tipo_consulta = driver.find_element('xpath', campo_consulta)\n",
    "tipo_consulta.click()"
   ]
  },
  {
   "cell_type": "code",
   "execution_count": 55,
   "metadata": {},
   "outputs": [],
   "source": [
    "#Mês referência\n",
    "\n",
    "campo_mes_ano_referencia = '/html/body/div[1]/section[2]/div[1]/div[2]/ul/li[1]/div/article[1]/select'\n",
    "\n",
    "# campo_mes_ano_referencia_teste = driver.find_element('xpath', campo_mes_ano_referencia)\n",
    "# campo_mes_ano_referencia_teste.click()\n",
    "# campo_mes_ano_referencia_teste.send_keys('janeiro/2018' + Keys.RETURN)"
   ]
  },
  {
   "cell_type": "code",
   "execution_count": 56,
   "metadata": {},
   "outputs": [],
   "source": [
    "#Marca, Modelo, Ano e Pesquisar\n",
    "marca_carro = 'GM - Chevrolet'\n",
    "modelo_carro = 'ONIX HATCH Joy 1.0 8V Flex 5p Mec.'\n",
    "ano_carro = '2018 Gasolina'\n",
    "\n",
    "campo_marca_carro = '/html/body/div[1]/section[2]/div[1]/div[2]/ul/li[1]/div/article[1]/div[2]/div[1]/div/select'\n",
    "campo_modelo_carro = '/html/body/div[1]/section[2]/div[1]/div[2]/ul/li[1]/div/article[1]/div[2]/div[2]/div[1]/select'\n",
    "campo_ano_carro = '/html/body/div[1]/section[2]/div[1]/div[2]/ul/li[1]/div/article[1]/div[2]/div[2]/div[2]/select'\n",
    "campo_pesquisar = '/html/body/div[1]/section[2]/div[1]/div[2]/ul/li[1]/div/article[1]/div[2]/div[3]/a'\n",
    "campo_limpar = '/html/body/div[1]/section[2]/div[1]/div[2]/ul/li[1]/div/article[1]/div[2]/div[5]/a'\n",
    "\n",
    "# campo_marca_carro = driver.find_element('xpath', campo_marca_carro)\n",
    "# campo_marca_carro.click()\n",
    "# campo_marca_carro.send_keys(marca_carro + Keys.RETURN)\n",
    "\n",
    "# campo_modelo_carro = driver.find_element('xpath', campo_modelo_carro)\n",
    "# campo_modelo_carro.click()\n",
    "# campo_modelo_carro.send_keys(modelo_carro + Keys.RETURN)\n",
    "\n",
    "# campo_ano_carro = driver.find_element('xpath', campo_ano_carro)\n",
    "# campo_ano_carro.click()\n",
    "# campo_ano_carro.send_keys(ano_carro + Keys.RETURN)\n",
    "\n",
    "# campo_pesquisar = driver.find_element('xpath', campo_pesquisar)\n",
    "# campo_pesquisar.click()"
   ]
  },
  {
   "cell_type": "code",
   "execution_count": 85,
   "metadata": {},
   "outputs": [],
   "source": [
    "#Copiando tabela\n",
    "\n",
    "campo_tabela = '/html/body/div[1]/section[2]/div[1]/div[2]/ul/li[1]/div/article[1]/div[2]/div[4]/table'\n",
    "\n",
    "tabela = driver.find_element('xpath', campo_tabela)\n",
    "html = tabela.get_attribute('innerHTML')\n",
    "parser = BeautifulSoup(html, \"html.parser\")\n",
    "tabela = parser.select_one('tbody')\n",
    "# tabela"
   ]
  },
  {
   "cell_type": "markdown",
   "metadata": {},
   "source": [
    "### Formatando tabela"
   ]
  },
  {
   "cell_type": "markdown",
   "metadata": {},
   "source": [
    "#### Dados"
   ]
  },
  {
   "cell_type": "code",
   "execution_count": 104,
   "metadata": {},
   "outputs": [],
   "source": [
    "regex_dados = re.compile('(<td><p>)(.*?)(</p></td>)')\n",
    "dados = regex_dados.findall(str(tabela))\n",
    "# dados"
   ]
  },
  {
   "cell_type": "code",
   "execution_count": 91,
   "metadata": {},
   "outputs": [],
   "source": [
    "# loop para pegar apenas os resultados desejados\n",
    "\n",
    "for i, dado in enumerate(dados):\n",
    "    dados[i] = dado[1]\n",
    "# dados"
   ]
  },
  {
   "cell_type": "code",
   "execution_count": null,
   "metadata": {},
   "outputs": [],
   "source": [
    "def lista_dado(dados):\n",
    "    for i, dado in enumerate(dados):\n",
    "        dados[i] = dado[1]\n",
    "    return dados"
   ]
  },
  {
   "cell_type": "markdown",
   "metadata": {},
   "source": [
    "#### Título"
   ]
  },
  {
   "cell_type": "code",
   "execution_count": 193,
   "metadata": {},
   "outputs": [],
   "source": [
    "# loop para pegar apenas os títulos desejados\n",
    "\n",
    "regex_titulo= re.compile('(<td class=\"noborder\"><p>)(.*?)(</p></td)')\n",
    "titulo = regex_titulo.findall(str(tabela))\n",
    "titulo = lista_dado(titulo)\n",
    "# titulo"
   ]
  },
  {
   "cell_type": "markdown",
   "metadata": {},
   "source": [
    "### Treinando para todos os períodos"
   ]
  },
  {
   "cell_type": "code",
   "execution_count": 57,
   "metadata": {},
   "outputs": [],
   "source": [
    "referencia_ano = driver.find_element('xpath', campo_mes_ano_referencia)\n",
    "referencia_ano.click()"
   ]
  },
  {
   "cell_type": "code",
   "execution_count": 58,
   "metadata": {},
   "outputs": [],
   "source": [
    "html_referencia = referencia_ano.get_attribute('innerHTML')\n",
    "re_anos = re.compile(r'(option value=\"(.*?)\">)(.*?)( </option>)')\n",
    "lista_periodos = re_anos.findall(str(html_referencia))\n",
    "# lista_periodos[:3]\n",
    "\n",
    "driver.quit()"
   ]
  },
  {
   "cell_type": "code",
   "execution_count": 60,
   "metadata": {},
   "outputs": [],
   "source": [
    "periodos = []\n",
    "\n",
    "for i, periodo in enumerate(lista_periodos):\n",
    "    periodo = lista_periodos[i][2]\n",
    "    mes, ano =  periodo.split('/')\n",
    "    periodos.append({'periodo' : periodo, 'mes' : mes, 'ano' : ano})\n",
    "\n",
    "# periodos"
   ]
  },
  {
   "cell_type": "code",
   "execution_count": 61,
   "metadata": {},
   "outputs": [],
   "source": [
    "# loop para pegar mais modelos de marca e carro\n",
    "\n",
    "marca_carro = ['GM - Chevrolet', 'Hyundai', 'Ford']\n",
    "modelo_carro = ['ONIX HATCH Joy 1.0 8V Flex 5p Mec.', 'HB20 5 Anos 1.0 Flex 12V Mec.', 'Ka 1.0 S TiVCT Flex 5p']\n",
    "ano_carro = '2018 Gasolina'\n",
    "\n",
    "for i, marca in enumerate(marca_carro):\n",
    "    marca = marca_carro[i]\n",
    "    modelo = modelo_carro[i]"
   ]
  },
  {
   "cell_type": "markdown",
   "metadata": {},
   "source": [
    "## Funções"
   ]
  },
  {
   "cell_type": "code",
   "execution_count": 62,
   "metadata": {},
   "outputs": [],
   "source": [
    "import random\n",
    "import time\n",
    "\n",
    "def esperar(segundos = None):\n",
    "    if not segundos:\n",
    "        segundos = random.randrange(1,3)\n",
    "    time.sleep(segundos)\n",
    "\n",
    "def lista_dado(dados):\n",
    "    for i, dado in enumerate(dados):\n",
    "        dados[i] = dado[1]\n",
    "    return dados\n",
    "\n",
    "def preencher_campo(campo, item):\n",
    "    campo_pesquisa = driver.find_element('xpath', campo)\n",
    "    campo_pesquisa.click()\n",
    "    campo_pesquisa.send_keys(item + Keys.RETURN)\n",
    "\n",
    "def click_campo(campo):\n",
    "    pesquisar = driver.find_element('xpath', campo)\n",
    "    pesquisar.click()"
   ]
  },
  {
   "cell_type": "markdown",
   "metadata": {},
   "source": [
    "## Jogando Scraping"
   ]
  },
  {
   "cell_type": "markdown",
   "metadata": {},
   "source": [
    "### Características"
   ]
  },
  {
   "cell_type": "code",
   "execution_count": 30,
   "metadata": {},
   "outputs": [],
   "source": [
    "#Hatch compacto\n",
    "\n",
    "marca_carro = ['GM - Chevrolet', 'Hyundai', 'Ford']\n",
    "modelo_carro = ['ONIX HATCH Joy 1.0 8V Flex 5p Mec.', 'HB20 5 Anos 1.0 Flex 12V Mec.', 'Ka 1.0 S TiVCT Flex 5p']\n",
    "ano_carro = '2018 Gasolina'"
   ]
  },
  {
   "cell_type": "code",
   "execution_count": 63,
   "metadata": {},
   "outputs": [],
   "source": [
    "#Hatch médio\n",
    "\n",
    "marca_carro = ['GM - Chevrolet', 'Ford', 'Peugeot']\n",
    "modelo_carro = ['CRUZE Sport LT 1.4 16V TV Flex 5p Aut.', 'Focus 1.6 S/SE/SE Plus Flex 8V/16V 5p', 'Ka 1.0 S TiVCT Flex 5p', '3008 Griffe 1.6 Turbo 16V 5p Aut.']\n",
    "ano_carro = '2018 Gasolina'"
   ]
  },
  {
   "cell_type": "code",
   "execution_count": 136,
   "metadata": {},
   "outputs": [],
   "source": [
    "#Monovolume e Perua\n",
    "\n",
    "marca_carro = ['Honda', 'GM - Chevrolet', 'VW - VolksWagen']\n",
    "modelo_carro = ['Fit DX 1.5 Flexone 16V 5p Mec.', 'SPIN LS 1.8 8V Econo.Flex 5p Mec.', 'SPACEFOX 1.6 Trendline Total Flex 8v 5p']\n",
    "ano_carro = '2018 Gasolina'"
   ]
  },
  {
   "cell_type": "code",
   "execution_count": 143,
   "metadata": {},
   "outputs": [],
   "source": [
    "# Sedã compacto\n",
    "\n",
    "marca_carro = ['GM - Chevrolet', 'Ford', 'VW - VolksWagen']\n",
    "modelo_carro = ['PRISMA Sed. Joy/ LS 1.0 8V FlexPower 4p', 'Ka+ Sedan 1.0 SEL TiCVT Flex 4p', 'VOYAGE Comfortline 1.0 T.Flex 12V 4p']\n",
    "ano_carro = '2018 Gasolina'"
   ]
  },
  {
   "cell_type": "code",
   "execution_count": 148,
   "metadata": {},
   "outputs": [],
   "source": [
    "# Sedã médio\n",
    "\n",
    "marca_carro = ['Toyota', 'GM - Chevrolet', 'Nissan']\n",
    "modelo_carro = ['Corolla GLi Upper 1.8 Flex 16V Aut.', 'CRUZE LT 1.4 16V Turbo Flex 4p Aut.', 'Sentra S 2.0 FlexStart 16V Aut.']\n",
    "ano_carro = '2018 Gasolina'"
   ]
  },
  {
   "cell_type": "code",
   "execution_count": 153,
   "metadata": {},
   "outputs": [],
   "source": [
    "# Sedã premium\n",
    "\n",
    "marca_carro = ['Ford', 'BMW', 'Audi']\n",
    "modelo_carro = ['Fusion SE 2.5 I-VCT Flex 16V Aut.', '320iA 2.0 TB M Sport A.Flex/M.Sport 4p', 'A3 Sed. Ambition 2.0 TSFI 220cv S-tronic']\n",
    "ano_carro = '2018 Gasolina'"
   ]
  },
  {
   "cell_type": "code",
   "execution_count": 162,
   "metadata": {},
   "outputs": [],
   "source": [
    "# Utilitário\n",
    "\n",
    "marca_carro = ['Hyundai', 'Honda', 'Nissan']\n",
    "modelo_carro = ['Creta Attitude 1.6 16V Flex Mec.', 'HR-V EX 1.8 Flexone 16V 5p Aut.', 'KICKS S 1.6 16V Flex 5p Aut.']\n",
    "ano_carro = '2018 Gasolina'"
   ]
  },
  {
   "cell_type": "code",
   "execution_count": 171,
   "metadata": {},
   "outputs": [],
   "source": [
    "# Utilitário premium\n",
    "\n",
    "marca_carro = ['Jeep', 'Toyota', 'Hyundai']\n",
    "modelo_carro = ['COMPASS LIMITED 2.0 4x2 Flex 16V Aut.', 'Hilux SW4 SR 4x2 2.7/ 2.7 Flex 16V Aut.', 'ix35 2.0 16V 2WD Flex Aut.']\n",
    "ano_carro = '2018 Gasolina'"
   ]
  },
  {
   "cell_type": "markdown",
   "metadata": {},
   "source": [
    "### Obtendo todos os períodos atuais"
   ]
  },
  {
   "cell_type": "markdown",
   "metadata": {},
   "source": [
    "### Loop completo"
   ]
  },
  {
   "cell_type": "code",
   "execution_count": 172,
   "metadata": {},
   "outputs": [],
   "source": [
    "driver = webdriver.Chrome(service = Service(ChromeDriverManager().install()))\n",
    "driver.get(url)\n",
    "driver.implicitly_wait(10)\n",
    "# driver.maximize_window()\n",
    "\n",
    "\n",
    "esperar()\n",
    "tipo_consulta = driver.find_element('xpath', campo_consulta)\n",
    "tipo_consulta.click()\n",
    "\n",
    "lista_tabela = []\n",
    "\n",
    "for i, marca in enumerate(marca_carro):\n",
    "    marca = marca_carro[i]\n",
    "    modelo = modelo_carro[i]\n",
    "    for periodo in periodos:\n",
    "        if int(periodo['ano']) >= 2018:\n",
    "            periodo_referencia = periodo['periodo']\n",
    "            esperar(4)\n",
    "            preencher_campo(campo_mes_ano_referencia, periodo_referencia)\n",
    "            esperar()\n",
    "            preencher_campo(campo_marca_carro, marca)\n",
    "            esperar()\n",
    "            preencher_campo(campo_modelo_carro, modelo)\n",
    "            esperar()\n",
    "            preencher_campo(campo_ano_carro, ano_carro)\n",
    "            esperar()\n",
    "            click_campo(campo_pesquisar)\n",
    "            esperar()\n",
    "\n",
    "            tabela = driver.find_element('xpath', campo_tabela)\n",
    "            html = tabela.get_attribute('innerHTML')\n",
    "            parser = BeautifulSoup(html, \"html.parser\")\n",
    "            tabela = parser.select_one('tbody')\n",
    "            dados = regex_dados.findall(str(tabela))\n",
    "            dados = lista_dado(dados)\n",
    "            lista_tabela.append(dados)\n",
    "            \n",
    "            click_campo(campo_limpar)\n",
    "            esperar()\n",
    "\n",
    "driver.quit()"
   ]
  },
  {
   "cell_type": "code",
   "execution_count": 99,
   "metadata": {},
   "outputs": [],
   "source": [
    "regex_titulo= re.compile('(<td class=\"noborder\"><p>)(.*?)(</p>)')\n",
    "titulo = regex_titulo.findall(str(tabela))\n",
    "titulo = lista_dado(titulo)\n",
    "# titulo"
   ]
  },
  {
   "cell_type": "code",
   "execution_count": 173,
   "metadata": {},
   "outputs": [],
   "source": [
    "# df = pd.DataFrame(lista_tabela, columns = titulo)\n",
    "# df_hatch_medio = pd.DataFrame(lista_tabela, columns = titulo)\n",
    "# df_monovolume_perua = pd.DataFrame(lista_tabela, columns = titulo)\n",
    "# df_seda_compacto = pd.DataFrame(lista_tabela, columns = titulo)\n",
    "# df_seda_medio = pd.DataFrame(lista_tabela, columns = titulo)\n",
    "# df_seda_premium = pd.DataFrame(lista_tabela, columns = titulo)\n",
    "# df_utilitario = pd.DataFrame(lista_tabela, columns = titulo)\n",
    "# df_utilitario_premium = pd.DataFrame(lista_tabela, columns = titulo)"
   ]
  },
  {
   "cell_type": "code",
   "execution_count": 174,
   "metadata": {},
   "outputs": [
    {
     "data": {
      "text/html": [
       "<div>\n",
       "<style scoped>\n",
       "    .dataframe tbody tr th:only-of-type {\n",
       "        vertical-align: middle;\n",
       "    }\n",
       "\n",
       "    .dataframe tbody tr th {\n",
       "        vertical-align: top;\n",
       "    }\n",
       "\n",
       "    .dataframe thead th {\n",
       "        text-align: right;\n",
       "    }\n",
       "</style>\n",
       "<table border=\"1\" class=\"dataframe\">\n",
       "  <thead>\n",
       "    <tr style=\"text-align: right;\">\n",
       "      <th></th>\n",
       "      <th>Mês de referência:</th>\n",
       "      <th>Código Fipe:</th>\n",
       "      <th>Marca:</th>\n",
       "      <th>Modelo:</th>\n",
       "      <th>Ano Modelo:</th>\n",
       "      <th>Autenticação</th>\n",
       "      <th>Data da consulta</th>\n",
       "      <th>Preço Médio</th>\n",
       "    </tr>\n",
       "  </thead>\n",
       "  <tbody>\n",
       "    <tr>\n",
       "      <th>0</th>\n",
       "      <td>novembro de 2023</td>\n",
       "      <td>017047-0</td>\n",
       "      <td>Jeep</td>\n",
       "      <td>COMPASS LIMITED 2.0 4x2 Flex 16V Aut.</td>\n",
       "      <td>2018 Gasolina</td>\n",
       "      <td>gg86s2wzbdc6r</td>\n",
       "      <td>quinta-feira, 30 de novembro de 2023 18:13</td>\n",
       "      <td>R$ 109.992,00</td>\n",
       "    </tr>\n",
       "    <tr>\n",
       "      <th>1</th>\n",
       "      <td>outubro de 2023</td>\n",
       "      <td>017047-0</td>\n",
       "      <td>Jeep</td>\n",
       "      <td>COMPASS LIMITED 2.0 4x2 Flex 16V Aut.</td>\n",
       "      <td>2018 Gasolina</td>\n",
       "      <td>gjs7tq2fl6c6r</td>\n",
       "      <td>quinta-feira, 30 de novembro de 2023 18:13</td>\n",
       "      <td>R$ 111.286,00</td>\n",
       "    </tr>\n",
       "    <tr>\n",
       "      <th>2</th>\n",
       "      <td>setembro de 2023</td>\n",
       "      <td>017047-0</td>\n",
       "      <td>Jeep</td>\n",
       "      <td>COMPASS LIMITED 2.0 4x2 Flex 16V Aut.</td>\n",
       "      <td>2018 Gasolina</td>\n",
       "      <td>gl63ybkc8cc6r</td>\n",
       "      <td>quinta-feira, 30 de novembro de 2023 18:14</td>\n",
       "      <td>R$ 113.346,00</td>\n",
       "    </tr>\n",
       "    <tr>\n",
       "      <th>3</th>\n",
       "      <td>agosto de 2023</td>\n",
       "      <td>017047-0</td>\n",
       "      <td>Jeep</td>\n",
       "      <td>COMPASS LIMITED 2.0 4x2 Flex 16V Aut.</td>\n",
       "      <td>2018 Gasolina</td>\n",
       "      <td>gmgm5pm104c6r</td>\n",
       "      <td>quinta-feira, 30 de novembro de 2023 18:14</td>\n",
       "      <td>R$ 113.553,00</td>\n",
       "    </tr>\n",
       "    <tr>\n",
       "      <th>4</th>\n",
       "      <td>julho de 2023</td>\n",
       "      <td>017047-0</td>\n",
       "      <td>Jeep</td>\n",
       "      <td>COMPASS LIMITED 2.0 4x2 Flex 16V Aut.</td>\n",
       "      <td>2018 Gasolina</td>\n",
       "      <td>gn9wth3fdzc6r</td>\n",
       "      <td>quinta-feira, 30 de novembro de 2023 18:14</td>\n",
       "      <td>R$ 115.128,00</td>\n",
       "    </tr>\n",
       "  </tbody>\n",
       "</table>\n",
       "</div>"
      ],
      "text/plain": [
       "  Mês de referência: Código Fipe: Marca:  \\\n",
       "0  novembro de 2023      017047-0   Jeep   \n",
       "1   outubro de 2023      017047-0   Jeep   \n",
       "2  setembro de 2023      017047-0   Jeep   \n",
       "3    agosto de 2023      017047-0   Jeep   \n",
       "4     julho de 2023      017047-0   Jeep   \n",
       "\n",
       "                                 Modelo:    Ano Modelo:   Autenticação  \\\n",
       "0  COMPASS LIMITED 2.0 4x2 Flex 16V Aut.  2018 Gasolina  gg86s2wzbdc6r   \n",
       "1  COMPASS LIMITED 2.0 4x2 Flex 16V Aut.  2018 Gasolina  gjs7tq2fl6c6r   \n",
       "2  COMPASS LIMITED 2.0 4x2 Flex 16V Aut.  2018 Gasolina  gl63ybkc8cc6r   \n",
       "3  COMPASS LIMITED 2.0 4x2 Flex 16V Aut.  2018 Gasolina  gmgm5pm104c6r   \n",
       "4  COMPASS LIMITED 2.0 4x2 Flex 16V Aut.  2018 Gasolina  gn9wth3fdzc6r   \n",
       "\n",
       "                             Data da consulta    Preço Médio  \n",
       "0  quinta-feira, 30 de novembro de 2023 18:13  R$ 109.992,00  \n",
       "1  quinta-feira, 30 de novembro de 2023 18:13  R$ 111.286,00  \n",
       "2  quinta-feira, 30 de novembro de 2023 18:14  R$ 113.346,00  \n",
       "3  quinta-feira, 30 de novembro de 2023 18:14  R$ 113.553,00  \n",
       "4  quinta-feira, 30 de novembro de 2023 18:14  R$ 115.128,00  "
      ]
     },
     "execution_count": 174,
     "metadata": {},
     "output_type": "execute_result"
    }
   ],
   "source": [
    "# df_hatch_medio.head(5)\n",
    "# df_monovolume_perua.head(5)\n",
    "# df_seda_compacto.head(5)\n",
    "# df_seda_medio.head(5)\n",
    "# df_seda_premium.head(5)\n",
    "# df_utilitario.head(5)\n",
    "# df_utilitario_premium.head(5)"
   ]
  },
  {
   "cell_type": "code",
   "execution_count": 175,
   "metadata": {},
   "outputs": [],
   "source": [
    "# df.to_excel('db_hatch_compacto.xlsx')\n",
    "# df_hatch_medio.to_excel('db_hatch_medio.xlsx')\n",
    "# df_monovolume_perua.to_excel('db_monovolume_perua.xlsx')\n",
    "# df_seda_compacto.to_excel('db_seda_compacto.xlsx')\n",
    "# df_seda_medio.to_excel('db_seda_medio.xlsx')\n",
    "# df_seda_premium.to_excel('db_seda_premium.xlsx')\n",
    "# df_utilitario.to_excel('db_utilitario.xlsx')\n",
    "# df_utilitario_premium.to_excel('db_utilitario_premium.xlsx')"
   ]
  },
  {
   "cell_type": "markdown",
   "metadata": {},
   "source": [
    "## ETL"
   ]
  },
  {
   "cell_type": "code",
   "execution_count": 2,
   "metadata": {},
   "outputs": [],
   "source": [
    "import os\n",
    "from datetime import datetime\n",
    "import locale\n",
    "\n",
    "locale.setlocale(locale.LC_ALL, 'pt_BR')\n",
    "formato = \"%B/%Y\""
   ]
  },
  {
   "cell_type": "code",
   "execution_count": 4,
   "metadata": {},
   "outputs": [],
   "source": [
    "os.chdir('C:/Users/jean_/dev/github/EDA/Documents/database')\n",
    "diretorio_atual = os.getcwd()\n",
    "\n",
    "df_hatch_compacto = pd.read_excel('db_hatch_compacto.xlsx')"
   ]
  },
  {
   "cell_type": "code",
   "execution_count": 5,
   "metadata": {},
   "outputs": [
    {
     "data": {
      "text/html": [
       "<div>\n",
       "<style scoped>\n",
       "    .dataframe tbody tr th:only-of-type {\n",
       "        vertical-align: middle;\n",
       "    }\n",
       "\n",
       "    .dataframe tbody tr th {\n",
       "        vertical-align: top;\n",
       "    }\n",
       "\n",
       "    .dataframe thead th {\n",
       "        text-align: right;\n",
       "    }\n",
       "</style>\n",
       "<table border=\"1\" class=\"dataframe\">\n",
       "  <thead>\n",
       "    <tr style=\"text-align: right;\">\n",
       "      <th></th>\n",
       "      <th>Unnamed: 0</th>\n",
       "      <th>Mês de referência:</th>\n",
       "      <th>Código Fipe:</th>\n",
       "      <th>Marca:</th>\n",
       "      <th>Modelo:</th>\n",
       "      <th>Ano Modelo:</th>\n",
       "      <th>Autenticação</th>\n",
       "      <th>Data da consulta</th>\n",
       "      <th>Preço Médio</th>\n",
       "    </tr>\n",
       "  </thead>\n",
       "  <tbody>\n",
       "    <tr>\n",
       "      <th>0</th>\n",
       "      <td>0</td>\n",
       "      <td>novembro de 2023</td>\n",
       "      <td>004473-3</td>\n",
       "      <td>GM - Chevrolet</td>\n",
       "      <td>ONIX HATCH Joy 1.0 8V Flex 5p Mec.</td>\n",
       "      <td>2018 Gasolina</td>\n",
       "      <td>w8jp6nsm6c5h</td>\n",
       "      <td>quarta-feira, 29 de novembro de 2023 22:49</td>\n",
       "      <td>R$ 47.438,00</td>\n",
       "    </tr>\n",
       "    <tr>\n",
       "      <th>1</th>\n",
       "      <td>1</td>\n",
       "      <td>outubro de 2023</td>\n",
       "      <td>004473-3</td>\n",
       "      <td>GM - Chevrolet</td>\n",
       "      <td>ONIX HATCH Joy 1.0 8V Flex 5p Mec.</td>\n",
       "      <td>2018 Gasolina</td>\n",
       "      <td>xb6ygqcznn5h</td>\n",
       "      <td>quarta-feira, 29 de novembro de 2023 22:49</td>\n",
       "      <td>R$ 47.667,00</td>\n",
       "    </tr>\n",
       "    <tr>\n",
       "      <th>2</th>\n",
       "      <td>2</td>\n",
       "      <td>setembro de 2023</td>\n",
       "      <td>004473-3</td>\n",
       "      <td>GM - Chevrolet</td>\n",
       "      <td>ONIX HATCH Joy 1.0 8V Flex 5p Mec.</td>\n",
       "      <td>2018 Gasolina</td>\n",
       "      <td>xhbjcn3n7m5h</td>\n",
       "      <td>quarta-feira, 29 de novembro de 2023 22:49</td>\n",
       "      <td>R$ 48.018,00</td>\n",
       "    </tr>\n",
       "    <tr>\n",
       "      <th>3</th>\n",
       "      <td>3</td>\n",
       "      <td>agosto de 2023</td>\n",
       "      <td>004473-3</td>\n",
       "      <td>GM - Chevrolet</td>\n",
       "      <td>ONIX HATCH Joy 1.0 8V Flex 5p Mec.</td>\n",
       "      <td>2018 Gasolina</td>\n",
       "      <td>xy89rwm1bs5h</td>\n",
       "      <td>quarta-feira, 29 de novembro de 2023 22:50</td>\n",
       "      <td>R$ 49.294,00</td>\n",
       "    </tr>\n",
       "    <tr>\n",
       "      <th>4</th>\n",
       "      <td>4</td>\n",
       "      <td>julho de 2023</td>\n",
       "      <td>004473-3</td>\n",
       "      <td>GM - Chevrolet</td>\n",
       "      <td>ONIX HATCH Joy 1.0 8V Flex 5p Mec.</td>\n",
       "      <td>2018 Gasolina</td>\n",
       "      <td>x3tl04qc4d5h</td>\n",
       "      <td>quarta-feira, 29 de novembro de 2023 22:50</td>\n",
       "      <td>R$ 49.680,00</td>\n",
       "    </tr>\n",
       "  </tbody>\n",
       "</table>\n",
       "</div>"
      ],
      "text/plain": [
       "   Unnamed: 0 Mês de referência: Código Fipe:          Marca:  \\\n",
       "0           0  novembro de 2023      004473-3  GM - Chevrolet   \n",
       "1           1   outubro de 2023      004473-3  GM - Chevrolet   \n",
       "2           2  setembro de 2023      004473-3  GM - Chevrolet   \n",
       "3           3    agosto de 2023      004473-3  GM - Chevrolet   \n",
       "4           4     julho de 2023      004473-3  GM - Chevrolet   \n",
       "\n",
       "                              Modelo:    Ano Modelo:  Autenticação  \\\n",
       "0  ONIX HATCH Joy 1.0 8V Flex 5p Mec.  2018 Gasolina  w8jp6nsm6c5h   \n",
       "1  ONIX HATCH Joy 1.0 8V Flex 5p Mec.  2018 Gasolina  xb6ygqcznn5h   \n",
       "2  ONIX HATCH Joy 1.0 8V Flex 5p Mec.  2018 Gasolina  xhbjcn3n7m5h   \n",
       "3  ONIX HATCH Joy 1.0 8V Flex 5p Mec.  2018 Gasolina  xy89rwm1bs5h   \n",
       "4  ONIX HATCH Joy 1.0 8V Flex 5p Mec.  2018 Gasolina  x3tl04qc4d5h   \n",
       "\n",
       "                             Data da consulta   Preço Médio  \n",
       "0  quarta-feira, 29 de novembro de 2023 22:49  R$ 47.438,00  \n",
       "1  quarta-feira, 29 de novembro de 2023 22:49  R$ 47.667,00  \n",
       "2  quarta-feira, 29 de novembro de 2023 22:49  R$ 48.018,00  \n",
       "3  quarta-feira, 29 de novembro de 2023 22:50  R$ 49.294,00  \n",
       "4  quarta-feira, 29 de novembro de 2023 22:50  R$ 49.680,00  "
      ]
     },
     "execution_count": 5,
     "metadata": {},
     "output_type": "execute_result"
    }
   ],
   "source": [
    "df_hatch_compacto.head(5)"
   ]
  },
  {
   "cell_type": "code",
   "execution_count": 6,
   "metadata": {},
   "outputs": [
    {
     "name": "stdout",
     "output_type": "stream",
     "text": [
      "<class 'pandas.core.frame.DataFrame'>\n",
      "RangeIndex: 213 entries, 0 to 212\n",
      "Data columns (total 9 columns):\n",
      " #   Column              Non-Null Count  Dtype \n",
      "---  ------              --------------  ----- \n",
      " 0   Unnamed: 0          213 non-null    int64 \n",
      " 1   Mês de referência:  213 non-null    object\n",
      " 2   Código Fipe:        213 non-null    object\n",
      " 3   Marca:              213 non-null    object\n",
      " 4   Modelo:             213 non-null    object\n",
      " 5   Ano Modelo:         213 non-null    object\n",
      " 6   Autenticação        213 non-null    object\n",
      " 7   Data da consulta    213 non-null    object\n",
      " 8   Preço Médio         213 non-null    object\n",
      "dtypes: int64(1), object(8)\n",
      "memory usage: 15.1+ KB\n"
     ]
    }
   ],
   "source": [
    "df_hatch_compacto.info()"
   ]
  },
  {
   "cell_type": "code",
   "execution_count": 7,
   "metadata": {},
   "outputs": [],
   "source": [
    "df_hatch_compacto.drop(columns = ['Unnamed: 0'], inplace = True)"
   ]
  },
  {
   "cell_type": "markdown",
   "metadata": {},
   "source": [
    "### Tratamento para coluna 'Mês de referência'\n"
   ]
  },
  {
   "cell_type": "code",
   "execution_count": 8,
   "metadata": {},
   "outputs": [],
   "source": [
    "df_hatch_compacto['Mês de referência:'] = df_hatch_compacto['Mês de referência:'].str.replace(' de ', '/')\n",
    "df_hatch_compacto['Mês de referência:'] = df_hatch_compacto['Mês de referência:'].str.replace(' ', '')\n",
    "df_hatch_compacto['Mês de referência:'] = df_hatch_compacto['Mês de referência:'].apply(lambda x: datetime.strptime(x, formato))"
   ]
  },
  {
   "cell_type": "markdown",
   "metadata": {},
   "source": [
    "### Tratamento para coluna 'Preço Médio'"
   ]
  },
  {
   "cell_type": "code",
   "execution_count": 9,
   "metadata": {},
   "outputs": [],
   "source": [
    "df_hatch_compacto['Preço Médio'] = df_hatch_compacto['Preço Médio'].str.replace('R$', '')\n",
    "df_hatch_compacto['Preço Médio'] = df_hatch_compacto['Preço Médio'].str.replace('.', '')\n",
    "df_hatch_compacto['Preço Médio'] = df_hatch_compacto['Preço Médio'].str.replace(',', '.')\n",
    "df_hatch_compacto['Preço Médio'] = df_hatch_compacto['Preço Médio'].astype(float)"
   ]
  },
  {
   "cell_type": "code",
   "execution_count": 10,
   "metadata": {},
   "outputs": [],
   "source": [
    "def tratamento_FIPE(dataframe):\n",
    "    dataframe['Preço Médio'] = dataframe['Preço Médio'].str.replace('R$', '')\n",
    "    dataframe['Preço Médio'] = dataframe['Preço Médio'].str.replace('.', '')\n",
    "    dataframe['Preço Médio'] = dataframe['Preço Médio'].str.replace(',', '.')\n",
    "    dataframe['Preço Médio'] = dataframe['Preço Médio'].astype(float)\n",
    "\n",
    "    dataframe['Mês de referência:'] = dataframe['Mês de referência:'].str.replace(' de ', '/')\n",
    "    dataframe['Mês de referência:'] = dataframe['Mês de referência:'].str.replace(' ', '')\n",
    "    dataframe['Mês de referência:'] = dataframe['Mês de referência:'].apply(lambda x: datetime.strptime(x, formato))\n",
    "\n",
    "    dataframe.drop(columns = ['Unnamed: 0'], inplace = True)\n"
   ]
  },
  {
   "cell_type": "code",
   "execution_count": 11,
   "metadata": {},
   "outputs": [],
   "source": [
    "df_hatch_compacto['Segmento'] = 'Hatch Compacto'"
   ]
  },
  {
   "cell_type": "code",
   "execution_count": 12,
   "metadata": {},
   "outputs": [
    {
     "name": "stdout",
     "output_type": "stream",
     "text": [
      "<class 'pandas.core.frame.DataFrame'>\n",
      "RangeIndex: 213 entries, 0 to 212\n",
      "Data columns (total 9 columns):\n",
      " #   Column              Non-Null Count  Dtype         \n",
      "---  ------              --------------  -----         \n",
      " 0   Mês de referência:  213 non-null    datetime64[ns]\n",
      " 1   Código Fipe:        213 non-null    object        \n",
      " 2   Marca:              213 non-null    object        \n",
      " 3   Modelo:             213 non-null    object        \n",
      " 4   Ano Modelo:         213 non-null    object        \n",
      " 5   Autenticação        213 non-null    object        \n",
      " 6   Data da consulta    213 non-null    object        \n",
      " 7   Preço Médio         213 non-null    float64       \n",
      " 8   Segmento            213 non-null    object        \n",
      "dtypes: datetime64[ns](1), float64(1), object(7)\n",
      "memory usage: 15.1+ KB\n"
     ]
    }
   ],
   "source": [
    "df_hatch_compacto.info()"
   ]
  },
  {
   "cell_type": "code",
   "execution_count": 13,
   "metadata": {},
   "outputs": [
    {
     "data": {
      "text/html": [
       "<div>\n",
       "<style scoped>\n",
       "    .dataframe tbody tr th:only-of-type {\n",
       "        vertical-align: middle;\n",
       "    }\n",
       "\n",
       "    .dataframe tbody tr th {\n",
       "        vertical-align: top;\n",
       "    }\n",
       "\n",
       "    .dataframe thead th {\n",
       "        text-align: right;\n",
       "    }\n",
       "</style>\n",
       "<table border=\"1\" class=\"dataframe\">\n",
       "  <thead>\n",
       "    <tr style=\"text-align: right;\">\n",
       "      <th></th>\n",
       "      <th>Mês de referência:</th>\n",
       "      <th>Código Fipe:</th>\n",
       "      <th>Marca:</th>\n",
       "      <th>Modelo:</th>\n",
       "      <th>Ano Modelo:</th>\n",
       "      <th>Autenticação</th>\n",
       "      <th>Data da consulta</th>\n",
       "      <th>Preço Médio</th>\n",
       "      <th>Segmento</th>\n",
       "    </tr>\n",
       "  </thead>\n",
       "  <tbody>\n",
       "    <tr>\n",
       "      <th>0</th>\n",
       "      <td>2023-11-01</td>\n",
       "      <td>004473-3</td>\n",
       "      <td>GM - Chevrolet</td>\n",
       "      <td>ONIX HATCH Joy 1.0 8V Flex 5p Mec.</td>\n",
       "      <td>2018 Gasolina</td>\n",
       "      <td>w8jp6nsm6c5h</td>\n",
       "      <td>quarta-feira, 29 de novembro de 2023 22:49</td>\n",
       "      <td>47438.0</td>\n",
       "      <td>Hatch Compacto</td>\n",
       "    </tr>\n",
       "    <tr>\n",
       "      <th>1</th>\n",
       "      <td>2023-10-01</td>\n",
       "      <td>004473-3</td>\n",
       "      <td>GM - Chevrolet</td>\n",
       "      <td>ONIX HATCH Joy 1.0 8V Flex 5p Mec.</td>\n",
       "      <td>2018 Gasolina</td>\n",
       "      <td>xb6ygqcznn5h</td>\n",
       "      <td>quarta-feira, 29 de novembro de 2023 22:49</td>\n",
       "      <td>47667.0</td>\n",
       "      <td>Hatch Compacto</td>\n",
       "    </tr>\n",
       "    <tr>\n",
       "      <th>2</th>\n",
       "      <td>2023-09-01</td>\n",
       "      <td>004473-3</td>\n",
       "      <td>GM - Chevrolet</td>\n",
       "      <td>ONIX HATCH Joy 1.0 8V Flex 5p Mec.</td>\n",
       "      <td>2018 Gasolina</td>\n",
       "      <td>xhbjcn3n7m5h</td>\n",
       "      <td>quarta-feira, 29 de novembro de 2023 22:49</td>\n",
       "      <td>48018.0</td>\n",
       "      <td>Hatch Compacto</td>\n",
       "    </tr>\n",
       "  </tbody>\n",
       "</table>\n",
       "</div>"
      ],
      "text/plain": [
       "  Mês de referência: Código Fipe:          Marca:  \\\n",
       "0         2023-11-01     004473-3  GM - Chevrolet   \n",
       "1         2023-10-01     004473-3  GM - Chevrolet   \n",
       "2         2023-09-01     004473-3  GM - Chevrolet   \n",
       "\n",
       "                              Modelo:    Ano Modelo:  Autenticação  \\\n",
       "0  ONIX HATCH Joy 1.0 8V Flex 5p Mec.  2018 Gasolina  w8jp6nsm6c5h   \n",
       "1  ONIX HATCH Joy 1.0 8V Flex 5p Mec.  2018 Gasolina  xb6ygqcznn5h   \n",
       "2  ONIX HATCH Joy 1.0 8V Flex 5p Mec.  2018 Gasolina  xhbjcn3n7m5h   \n",
       "\n",
       "                             Data da consulta  Preço Médio        Segmento  \n",
       "0  quarta-feira, 29 de novembro de 2023 22:49      47438.0  Hatch Compacto  \n",
       "1  quarta-feira, 29 de novembro de 2023 22:49      47667.0  Hatch Compacto  \n",
       "2  quarta-feira, 29 de novembro de 2023 22:49      48018.0  Hatch Compacto  "
      ]
     },
     "execution_count": 13,
     "metadata": {},
     "output_type": "execute_result"
    }
   ],
   "source": [
    "df_hatch_compacto.head(3)"
   ]
  },
  {
   "cell_type": "code",
   "execution_count": 14,
   "metadata": {},
   "outputs": [],
   "source": [
    "df_hatch_medio = pd.read_excel('db_hatch_medio.xlsx')\n",
    "df_monovolume_perua = pd.read_excel('db_monovolume_perua.xlsx')\n",
    "df_seda_compacto = pd.read_excel('db_seda_compacto.xlsx')\n",
    "df_seda_medio = pd.read_excel('db_seda_medio.xlsx')\n",
    "df_seda_premium = pd.read_excel('db_seda_premium.xlsx')\n",
    "df_utilitario_premium = pd.read_excel('db_utilitario_premium.xlsx')\n",
    "df_utilitario = pd.read_excel('db_utilitario.xlsx')"
   ]
  },
  {
   "cell_type": "code",
   "execution_count": 15,
   "metadata": {},
   "outputs": [],
   "source": [
    "tratamento_FIPE(df_hatch_medio)\n",
    "tratamento_FIPE(df_monovolume_perua)\n",
    "tratamento_FIPE(df_seda_compacto)\n",
    "tratamento_FIPE(df_seda_medio)\n",
    "tratamento_FIPE(df_seda_premium)\n",
    "tratamento_FIPE(df_utilitario_premium)\n",
    "tratamento_FIPE(df_utilitario)"
   ]
  },
  {
   "cell_type": "code",
   "execution_count": 16,
   "metadata": {},
   "outputs": [],
   "source": [
    "df_hatch_medio['Segmento'] = 'Hatch Médio'\n",
    "df_monovolume_perua['Segmento'] = 'Monovolume/Perua'\n",
    "df_seda_compacto['Segmento'] = 'Sedã Compacto'\n",
    "df_seda_medio['Segmento'] = 'Sedã Médio'\n",
    "df_seda_premium['Segmento'] = 'Sedã Premium'\n",
    "df_utilitario_premium['Segmento'] = 'Utilitário Premium'\n",
    "df_utilitario['Segmento'] = 'Utilitário'"
   ]
  },
  {
   "cell_type": "code",
   "execution_count": 17,
   "metadata": {},
   "outputs": [],
   "source": [
    "df_completo = pd.concat([df_hatch_compacto, df_hatch_medio], ignore_index = True)"
   ]
  },
  {
   "cell_type": "code",
   "execution_count": 18,
   "metadata": {},
   "outputs": [],
   "source": [
    "df_completo = pd.concat([df_completo, df_monovolume_perua], ignore_index = True)\n",
    "df_completo = pd.concat([df_completo, df_seda_compacto], ignore_index = True)\n",
    "df_completo = pd.concat([df_completo, df_seda_medio], ignore_index = True)\n",
    "df_completo = pd.concat([df_completo, df_seda_premium], ignore_index = True)\n",
    "df_completo = pd.concat([df_completo, df_utilitario_premium], ignore_index = True)\n",
    "df_completo = pd.concat([df_completo, df_utilitario], ignore_index = True)"
   ]
  },
  {
   "cell_type": "code",
   "execution_count": 19,
   "metadata": {},
   "outputs": [
    {
     "data": {
      "text/html": [
       "<div>\n",
       "<style scoped>\n",
       "    .dataframe tbody tr th:only-of-type {\n",
       "        vertical-align: middle;\n",
       "    }\n",
       "\n",
       "    .dataframe tbody tr th {\n",
       "        vertical-align: top;\n",
       "    }\n",
       "\n",
       "    .dataframe thead th {\n",
       "        text-align: right;\n",
       "    }\n",
       "</style>\n",
       "<table border=\"1\" class=\"dataframe\">\n",
       "  <thead>\n",
       "    <tr style=\"text-align: right;\">\n",
       "      <th></th>\n",
       "      <th>Mês de referência:</th>\n",
       "      <th>Código Fipe:</th>\n",
       "      <th>Marca:</th>\n",
       "      <th>Modelo:</th>\n",
       "      <th>Ano Modelo:</th>\n",
       "      <th>Autenticação</th>\n",
       "      <th>Data da consulta</th>\n",
       "      <th>Preço Médio</th>\n",
       "      <th>Segmento</th>\n",
       "    </tr>\n",
       "  </thead>\n",
       "  <tbody>\n",
       "    <tr>\n",
       "      <th>0</th>\n",
       "      <td>2023-11-01</td>\n",
       "      <td>004473-3</td>\n",
       "      <td>GM - Chevrolet</td>\n",
       "      <td>ONIX HATCH Joy 1.0 8V Flex 5p Mec.</td>\n",
       "      <td>2018 Gasolina</td>\n",
       "      <td>w8jp6nsm6c5h</td>\n",
       "      <td>quarta-feira, 29 de novembro de 2023 22:49</td>\n",
       "      <td>47438.0</td>\n",
       "      <td>Hatch Compacto</td>\n",
       "    </tr>\n",
       "    <tr>\n",
       "      <th>1</th>\n",
       "      <td>2023-10-01</td>\n",
       "      <td>004473-3</td>\n",
       "      <td>GM - Chevrolet</td>\n",
       "      <td>ONIX HATCH Joy 1.0 8V Flex 5p Mec.</td>\n",
       "      <td>2018 Gasolina</td>\n",
       "      <td>xb6ygqcznn5h</td>\n",
       "      <td>quarta-feira, 29 de novembro de 2023 22:49</td>\n",
       "      <td>47667.0</td>\n",
       "      <td>Hatch Compacto</td>\n",
       "    </tr>\n",
       "    <tr>\n",
       "      <th>2</th>\n",
       "      <td>2023-09-01</td>\n",
       "      <td>004473-3</td>\n",
       "      <td>GM - Chevrolet</td>\n",
       "      <td>ONIX HATCH Joy 1.0 8V Flex 5p Mec.</td>\n",
       "      <td>2018 Gasolina</td>\n",
       "      <td>xhbjcn3n7m5h</td>\n",
       "      <td>quarta-feira, 29 de novembro de 2023 22:49</td>\n",
       "      <td>48018.0</td>\n",
       "      <td>Hatch Compacto</td>\n",
       "    </tr>\n",
       "    <tr>\n",
       "      <th>3</th>\n",
       "      <td>2023-08-01</td>\n",
       "      <td>004473-3</td>\n",
       "      <td>GM - Chevrolet</td>\n",
       "      <td>ONIX HATCH Joy 1.0 8V Flex 5p Mec.</td>\n",
       "      <td>2018 Gasolina</td>\n",
       "      <td>xy89rwm1bs5h</td>\n",
       "      <td>quarta-feira, 29 de novembro de 2023 22:50</td>\n",
       "      <td>49294.0</td>\n",
       "      <td>Hatch Compacto</td>\n",
       "    </tr>\n",
       "    <tr>\n",
       "      <th>4</th>\n",
       "      <td>2023-07-01</td>\n",
       "      <td>004473-3</td>\n",
       "      <td>GM - Chevrolet</td>\n",
       "      <td>ONIX HATCH Joy 1.0 8V Flex 5p Mec.</td>\n",
       "      <td>2018 Gasolina</td>\n",
       "      <td>x3tl04qc4d5h</td>\n",
       "      <td>quarta-feira, 29 de novembro de 2023 22:50</td>\n",
       "      <td>49680.0</td>\n",
       "      <td>Hatch Compacto</td>\n",
       "    </tr>\n",
       "  </tbody>\n",
       "</table>\n",
       "</div>"
      ],
      "text/plain": [
       "  Mês de referência: Código Fipe:          Marca:  \\\n",
       "0         2023-11-01     004473-3  GM - Chevrolet   \n",
       "1         2023-10-01     004473-3  GM - Chevrolet   \n",
       "2         2023-09-01     004473-3  GM - Chevrolet   \n",
       "3         2023-08-01     004473-3  GM - Chevrolet   \n",
       "4         2023-07-01     004473-3  GM - Chevrolet   \n",
       "\n",
       "                              Modelo:    Ano Modelo:  Autenticação  \\\n",
       "0  ONIX HATCH Joy 1.0 8V Flex 5p Mec.  2018 Gasolina  w8jp6nsm6c5h   \n",
       "1  ONIX HATCH Joy 1.0 8V Flex 5p Mec.  2018 Gasolina  xb6ygqcznn5h   \n",
       "2  ONIX HATCH Joy 1.0 8V Flex 5p Mec.  2018 Gasolina  xhbjcn3n7m5h   \n",
       "3  ONIX HATCH Joy 1.0 8V Flex 5p Mec.  2018 Gasolina  xy89rwm1bs5h   \n",
       "4  ONIX HATCH Joy 1.0 8V Flex 5p Mec.  2018 Gasolina  x3tl04qc4d5h   \n",
       "\n",
       "                             Data da consulta  Preço Médio        Segmento  \n",
       "0  quarta-feira, 29 de novembro de 2023 22:49      47438.0  Hatch Compacto  \n",
       "1  quarta-feira, 29 de novembro de 2023 22:49      47667.0  Hatch Compacto  \n",
       "2  quarta-feira, 29 de novembro de 2023 22:49      48018.0  Hatch Compacto  \n",
       "3  quarta-feira, 29 de novembro de 2023 22:50      49294.0  Hatch Compacto  \n",
       "4  quarta-feira, 29 de novembro de 2023 22:50      49680.0  Hatch Compacto  "
      ]
     },
     "execution_count": 19,
     "metadata": {},
     "output_type": "execute_result"
    }
   ],
   "source": [
    "df_completo.head(5)"
   ]
  },
  {
   "cell_type": "code",
   "execution_count": 20,
   "metadata": {},
   "outputs": [
    {
     "name": "stdout",
     "output_type": "stream",
     "text": [
      "<class 'pandas.core.frame.DataFrame'>\n",
      "RangeIndex: 1704 entries, 0 to 1703\n",
      "Data columns (total 9 columns):\n",
      " #   Column              Non-Null Count  Dtype         \n",
      "---  ------              --------------  -----         \n",
      " 0   Mês de referência:  1704 non-null   datetime64[ns]\n",
      " 1   Código Fipe:        1704 non-null   object        \n",
      " 2   Marca:              1704 non-null   object        \n",
      " 3   Modelo:             1704 non-null   object        \n",
      " 4   Ano Modelo:         1704 non-null   object        \n",
      " 5   Autenticação        1704 non-null   object        \n",
      " 6   Data da consulta    1704 non-null   object        \n",
      " 7   Preço Médio         1704 non-null   float64       \n",
      " 8   Segmento            1704 non-null   object        \n",
      "dtypes: datetime64[ns](1), float64(1), object(7)\n",
      "memory usage: 119.9+ KB\n"
     ]
    }
   ],
   "source": [
    "df_completo.info()"
   ]
  },
  {
   "cell_type": "code",
   "execution_count": 21,
   "metadata": {},
   "outputs": [],
   "source": [
    "# df_completo.to_excel('db_FIPE_2018_2023.xlsx', sheet_name = 'FIPE_2018_2023', header = True)"
   ]
  }
 ],
 "metadata": {
  "kernelspec": {
   "display_name": "Python 3",
   "language": "python",
   "name": "python3"
  },
  "language_info": {
   "codemirror_mode": {
    "name": "ipython",
    "version": 3
   },
   "file_extension": ".py",
   "mimetype": "text/x-python",
   "name": "python",
   "nbconvert_exporter": "python",
   "pygments_lexer": "ipython3",
   "version": "3.11.1"
  }
 },
 "nbformat": 4,
 "nbformat_minor": 2
}
